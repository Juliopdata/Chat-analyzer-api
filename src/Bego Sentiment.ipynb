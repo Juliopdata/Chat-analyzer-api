{
 "cells": [
  {
   "cell_type": "code",
   "execution_count": 8,
   "metadata": {},
   "outputs": [],
   "source": [
    "# https://medium.com/@b.terryjack/nlp-pre-trained-sentiment-analysis-1eb52a9d742c"
   ]
  },
  {
   "cell_type": "code",
   "execution_count": 9,
   "metadata": {},
   "outputs": [
    {
     "name": "stderr",
     "output_type": "stream",
     "text": [
      "[nltk_data] Downloading package vader_lexicon to\n",
      "[nltk_data]     /home/julio/nltk_data...\n",
      "[nltk_data]   Package vader_lexicon is already up-to-date!\n"
     ]
    },
    {
     "data": {
      "text/plain": [
       "{'neg': 0.0, 'neu': 1.0, 'pos': 0.0, 'compound': 0.0}"
      ]
     },
     "execution_count": 9,
     "metadata": {},
     "output_type": "execute_result"
    }
   ],
   "source": [
    "# https://www.nltk.org/api/nltk.sentiment.html\n",
    "\n",
    "import nltk # install nltk\n",
    "nltk.download('vader_lexicon')\n",
    "from nltk.sentiment.vader import SentimentIntensityAnalyzer\n",
    "\n",
    "sid = SentimentIntensityAnalyzer()\n",
    "\n",
    "sid.polarity_scores(\"Weekend proyect\")"
   ]
  },
  {
   "cell_type": "code",
   "execution_count": 10,
   "metadata": {},
   "outputs": [
    {
     "name": "stdout",
     "output_type": "stream",
     "text": [
      "pos_sentence: {'neg': 0.0, 'neu': 0.0, 'pos': 1.0, 'compound': 0.6239}\n",
      "neu_sentence: {'neg': 0.0, 'neu': 0.513, 'pos': 0.487, 'compound': 0.6901}\n",
      "neg_sentence: {'neg': 1.0, 'neu': 0.0, 'pos': 0.0, 'compound': -0.5423}\n",
      "negated_words: {'neg': 0.6, 'neu': 0.4, 'pos': 0.0, 'compound': -0.4585}\n",
      "neutral: {'neg': 0.0, 'neu': 1.0, 'pos': 0.0, 'compound': 0.0}\n"
     ]
    }
   ],
   "source": [
    "sentences = {\"pos_sentence\": \"Amazing!\",\n",
    "             \"neu_sentence\": \"That is great! But I don't know...maybe a little weird\", \n",
    "             \"neg_sentence\": \"Bad\",\n",
    "            \"negated_words\": \"I am not happy\",\n",
    "            \"neutral\":\"I will go tomorrow to the mountain\"}\n",
    "\n",
    "for e in sentences:\n",
    "    print(\"{}: {}\".format(e, sid.polarity_scores(sentences[e])))"
   ]
  },
  {
   "cell_type": "code",
   "execution_count": 11,
   "metadata": {},
   "outputs": [
    {
     "data": {
      "text/plain": [
       "Sentiment(polarity=0.0, subjectivity=0.0)"
      ]
     },
     "execution_count": 11,
     "metadata": {},
     "output_type": "execute_result"
    }
   ],
   "source": [
    "# https://medium.com/@rahulvaish/textblob-and-sentiment-analysis-python-a687e9fabe96\n",
    "# https://textblob.readthedocs.io/en/dev/\n",
    "\n",
    "from textblob import TextBlob # install TextBlob\n",
    "\n",
    "TextBlob(\"hi\").sentiment"
   ]
  },
  {
   "cell_type": "code",
   "execution_count": null,
   "metadata": {},
   "outputs": [],
   "source": []
  }
 ],
 "metadata": {
  "kernelspec": {
   "display_name": "Python 3",
   "language": "python",
   "name": "python3"
  },
  "language_info": {
   "codemirror_mode": {
    "name": "ipython",
    "version": 3
   },
   "file_extension": ".py",
   "mimetype": "text/x-python",
   "name": "python",
   "nbconvert_exporter": "python",
   "pygments_lexer": "ipython3",
   "version": "3.7.5"
  }
 },
 "nbformat": 4,
 "nbformat_minor": 2
}
