{
 "cells": [
  {
   "cell_type": "code",
   "execution_count": 1,
   "metadata": {},
   "outputs": [
    {
     "name": "stdout",
     "output_type": "stream",
     "text": [
      "Insert your AtlasMongoDB Admin password: ········\n"
     ]
    }
   ],
   "source": [
    "import json\n",
    "import pandas as pd\n",
    "from pymongo import MongoClient\n",
    "from functions.mongo import connectCollection"
   ]
  },
  {
   "cell_type": "code",
   "execution_count": 2,
   "metadata": {},
   "outputs": [
    {
     "data": {
      "text/plain": [
       "<pymongo.results.InsertManyResult at 0x7f7936f61a50>"
      ]
     },
     "execution_count": 2,
     "metadata": {},
     "output_type": "execute_result"
    }
   ],
   "source": [
    "db, coll = connectCollection('api-project','chats')\n",
    "with open('./input/chats.json', encoding=\"utf8\") as f:\n",
    "    chats_json = json.load(f)\n",
    "coll.insert_many(chats_json)"
   ]
  },
  {
   "cell_type": "code",
   "execution_count": 3,
   "metadata": {},
   "outputs": [],
   "source": [
    "df = pd.read_json('./input/chats.json', orient='records')"
   ]
  },
  {
   "cell_type": "code",
   "execution_count": 4,
   "metadata": {},
   "outputs": [
    {
     "name": "stderr",
     "output_type": "stream",
     "text": [
      "/usr/local/lib/python3.7/dist-packages/ipykernel_launcher.py:2: SettingWithCopyWarning: \n",
      "A value is trying to be set on a copy of a slice from a DataFrame\n",
      "\n",
      "See the caveats in the documentation: http://pandas.pydata.org/pandas-docs/stable/user_guide/indexing.html#returning-a-view-versus-a-copy\n",
      "  \n"
     ]
    },
    {
     "data": {
      "text/plain": [
       "<pymongo.results.InsertManyResult at 0x7f7900e698c0>"
      ]
     },
     "execution_count": 4,
     "metadata": {},
     "output_type": "execute_result"
    }
   ],
   "source": [
    "chatsDF = df[['idChat', 'idUser']]\n",
    "chatsDF.drop_duplicates(inplace=True)\n",
    "chatsDF.reset_index(drop=True, inplace=True)\n",
    "uniqueChats = list(set(chatsDF['idChat']))\n",
    "users_total = []\n",
    "for e in uniqueChats:\n",
    "    users = []\n",
    "    for i in range(len(chatsDF)):\n",
    "        if chatsDF.at[i,'idChat'] == e:\n",
    "            users.append(chatsDF.at[i,'idUser'])\n",
    "    users_total.append(str(users))\n",
    "chatsDF = pd.DataFrame(uniqueChats, columns=['idChat'])\n",
    "chatsDF['users'] = users_total\n",
    "coll4 = db['chatsCR']\n",
    "coll4.insert_many(chatsDF.to_dict('records'))"
   ]
  },
  {
   "cell_type": "code",
   "execution_count": 5,
   "metadata": {},
   "outputs": [],
   "source": [
    "dfNew = df[['userName', 'idUser']]"
   ]
  },
  {
   "cell_type": "code",
   "execution_count": 6,
   "metadata": {},
   "outputs": [],
   "source": [
    "dfNew = dfNew[['userName', 'idUser']].mask(dfNew[['userName', 'idUser']].duplicated())"
   ]
  },
  {
   "cell_type": "code",
   "execution_count": 7,
   "metadata": {},
   "outputs": [],
   "source": [
    "dfNew = dfNew.dropna()"
   ]
  },
  {
   "cell_type": "code",
   "execution_count": 8,
   "metadata": {},
   "outputs": [],
   "source": [
    "dfNew.to_json('./output/users.json', orient='records')"
   ]
  },
  {
   "cell_type": "code",
   "execution_count": 9,
   "metadata": {},
   "outputs": [
    {
     "data": {
      "text/plain": [
       "<pymongo.results.InsertManyResult at 0x7f79005de6e0>"
      ]
     },
     "execution_count": 9,
     "metadata": {},
     "output_type": "execute_result"
    }
   ],
   "source": [
    "coll2 = db['users']\n",
    "coll2.insert_many(dfNew.to_dict('records'))"
   ]
  },
  {
   "cell_type": "code",
   "execution_count": 15,
   "metadata": {},
   "outputs": [],
   "source": [
    "dfchats.to_json(\"./output/justchats.json\", orient='records')"
   ]
  },
  {
   "cell_type": "code",
   "execution_count": 16,
   "metadata": {},
   "outputs": [
    {
     "data": {
      "text/plain": [
       "<pymongo.results.InsertManyResult at 0x7f7904704a00>"
      ]
     },
     "execution_count": 16,
     "metadata": {},
     "output_type": "execute_result"
    }
   ],
   "source": [
    "db, coll = connectCollection('api-project','users')\n",
    "data = list(coll.find({}))\n",
    "user_id_list = []\n",
    "for i in range(len(df)):\n",
    "    for e in data:\n",
    "        if df.at[i,'idUser'] == e['idUser']:\n",
    "            user_id_list.append(e['_id'])\n",
    "df['user_id'] = user_id_list\n",
    "coll4 = db['messages']\n",
    "coll4.insert_many(df.to_dict('records'))"
   ]
  },
  {
   "cell_type": "code",
   "execution_count": null,
   "metadata": {},
   "outputs": [],
   "source": []
  }
 ],
 "metadata": {
  "kernelspec": {
   "display_name": "Python 3",
   "language": "python",
   "name": "python3"
  },
  "language_info": {
   "codemirror_mode": {
    "name": "ipython",
    "version": 3
   },
   "file_extension": ".py",
   "mimetype": "text/x-python",
   "name": "python",
   "nbconvert_exporter": "python",
   "pygments_lexer": "ipython3",
   "version": "3.7.5"
  }
 },
 "nbformat": 4,
 "nbformat_minor": 2
}
